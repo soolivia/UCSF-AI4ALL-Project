{
  "nbformat": 4,
  "nbformat_minor": 0,
  "metadata": {
    "colab": {
      "provenance": []
    },
    "kernelspec": {
      "name": "python3",
      "display_name": "Python 3"
    },
    "language_info": {
      "name": "python"
    }
  },
  "cells": [
    {
      "cell_type": "code",
      "execution_count": null,
      "metadata": {
        "id": "OzNUVbzoAI3D",
        "colab": {
          "base_uri": "https://localhost:8080/"
        },
        "outputId": "4187862d-0b7c-4cbd-e233-746d1b456f15"
      },
      "outputs": [
        {
          "output_type": "stream",
          "name": "stdout",
          "text": [
            "Mounted at /content/drive\n"
          ]
        }
      ],
      "source": [
        "from google.colab import drive\n",
        "drive.mount('/content/drive')"
      ]
    },
    {
      "cell_type": "code",
      "source": [
        "import scipy.io\n",
        "import pandas as pd\n",
        "import numpy as np"
      ],
      "metadata": {
        "id": "0GlUIhWYJrou"
      },
      "execution_count": null,
      "outputs": []
    },
    {
      "cell_type": "code",
      "source": [
        "data_path = \"/content/drive/MyDrive/AI4ALL/Schizophrenia_Dataset\""
      ],
      "metadata": {
        "id": "l4lyJkXdAdyP"
      },
      "execution_count": null,
      "outputs": []
    },
    {
      "cell_type": "code",
      "source": [
        "labels_path = \"/content/drive/MyDrive/AI4ALL/Schizophrenia Dataset/labels_index_CORTICAL_Laus2008_all_scales.mat\"\n",
        "labels_mat = scipy.io.loadmat(labels_path)"
      ],
      "metadata": {
        "id": "HBbwxHz2AisN"
      },
      "execution_count": null,
      "outputs": []
    },
    {
      "cell_type": "code",
      "source": [
        "demographics = pd.read_csv('/content/drive/MyDrive/Schizophrenia Dataset/demographics_table.csv')\n",
        "\n"
      ],
      "metadata": {
        "id": "mMs5ld_-a8b-",
        "colab": {
          "base_uri": "https://localhost:8080/",
          "height": 358
        },
        "outputId": "9cc9a3d6-b1d3-46f8-a93c-f044cf9a60a9"
      },
      "execution_count": null,
      "outputs": [
        {
          "output_type": "error",
          "ename": "FileNotFoundError",
          "evalue": "ignored",
          "traceback": [
            "\u001b[0;31m---------------------------------------------------------------------------\u001b[0m",
            "\u001b[0;31mFileNotFoundError\u001b[0m                         Traceback (most recent call last)",
            "\u001b[0;32m<ipython-input-4-e08a0494e59f>\u001b[0m in \u001b[0;36m<module>\u001b[0;34m\u001b[0m\n\u001b[0;32m----> 1\u001b[0;31m \u001b[0mdemographics\u001b[0m \u001b[0;34m=\u001b[0m \u001b[0mpd\u001b[0m\u001b[0;34m.\u001b[0m\u001b[0mread_csv\u001b[0m\u001b[0;34m(\u001b[0m\u001b[0;34m'/content/drive/MyDrive/Schizophrenia Dataset/demographics_table.csv'\u001b[0m\u001b[0;34m)\u001b[0m\u001b[0;34m\u001b[0m\u001b[0;34m\u001b[0m\u001b[0m\n\u001b[0m\u001b[1;32m      2\u001b[0m \u001b[0;34m\u001b[0m\u001b[0m\n",
            "\u001b[0;32m/usr/local/lib/python3.8/dist-packages/pandas/util/_decorators.py\u001b[0m in \u001b[0;36mwrapper\u001b[0;34m(*args, **kwargs)\u001b[0m\n\u001b[1;32m    309\u001b[0m                     \u001b[0mstacklevel\u001b[0m\u001b[0;34m=\u001b[0m\u001b[0mstacklevel\u001b[0m\u001b[0;34m,\u001b[0m\u001b[0;34m\u001b[0m\u001b[0;34m\u001b[0m\u001b[0m\n\u001b[1;32m    310\u001b[0m                 )\n\u001b[0;32m--> 311\u001b[0;31m             \u001b[0;32mreturn\u001b[0m \u001b[0mfunc\u001b[0m\u001b[0;34m(\u001b[0m\u001b[0;34m*\u001b[0m\u001b[0margs\u001b[0m\u001b[0;34m,\u001b[0m \u001b[0;34m**\u001b[0m\u001b[0mkwargs\u001b[0m\u001b[0;34m)\u001b[0m\u001b[0;34m\u001b[0m\u001b[0;34m\u001b[0m\u001b[0m\n\u001b[0m\u001b[1;32m    312\u001b[0m \u001b[0;34m\u001b[0m\u001b[0m\n\u001b[1;32m    313\u001b[0m         \u001b[0;32mreturn\u001b[0m \u001b[0mwrapper\u001b[0m\u001b[0;34m\u001b[0m\u001b[0;34m\u001b[0m\u001b[0m\n",
            "\u001b[0;32m/usr/local/lib/python3.8/dist-packages/pandas/io/parsers/readers.py\u001b[0m in \u001b[0;36mread_csv\u001b[0;34m(filepath_or_buffer, sep, delimiter, header, names, index_col, usecols, squeeze, prefix, mangle_dupe_cols, dtype, engine, converters, true_values, false_values, skipinitialspace, skiprows, skipfooter, nrows, na_values, keep_default_na, na_filter, verbose, skip_blank_lines, parse_dates, infer_datetime_format, keep_date_col, date_parser, dayfirst, cache_dates, iterator, chunksize, compression, thousands, decimal, lineterminator, quotechar, quoting, doublequote, escapechar, comment, encoding, encoding_errors, dialect, error_bad_lines, warn_bad_lines, on_bad_lines, delim_whitespace, low_memory, memory_map, float_precision, storage_options)\u001b[0m\n\u001b[1;32m    584\u001b[0m     \u001b[0mkwds\u001b[0m\u001b[0;34m.\u001b[0m\u001b[0mupdate\u001b[0m\u001b[0;34m(\u001b[0m\u001b[0mkwds_defaults\u001b[0m\u001b[0;34m)\u001b[0m\u001b[0;34m\u001b[0m\u001b[0;34m\u001b[0m\u001b[0m\n\u001b[1;32m    585\u001b[0m \u001b[0;34m\u001b[0m\u001b[0m\n\u001b[0;32m--> 586\u001b[0;31m     \u001b[0;32mreturn\u001b[0m \u001b[0m_read\u001b[0m\u001b[0;34m(\u001b[0m\u001b[0mfilepath_or_buffer\u001b[0m\u001b[0;34m,\u001b[0m \u001b[0mkwds\u001b[0m\u001b[0;34m)\u001b[0m\u001b[0;34m\u001b[0m\u001b[0;34m\u001b[0m\u001b[0m\n\u001b[0m\u001b[1;32m    587\u001b[0m \u001b[0;34m\u001b[0m\u001b[0m\n\u001b[1;32m    588\u001b[0m \u001b[0;34m\u001b[0m\u001b[0m\n",
            "\u001b[0;32m/usr/local/lib/python3.8/dist-packages/pandas/io/parsers/readers.py\u001b[0m in \u001b[0;36m_read\u001b[0;34m(filepath_or_buffer, kwds)\u001b[0m\n\u001b[1;32m    480\u001b[0m \u001b[0;34m\u001b[0m\u001b[0m\n\u001b[1;32m    481\u001b[0m     \u001b[0;31m# Create the parser.\u001b[0m\u001b[0;34m\u001b[0m\u001b[0;34m\u001b[0m\u001b[0;34m\u001b[0m\u001b[0m\n\u001b[0;32m--> 482\u001b[0;31m     \u001b[0mparser\u001b[0m \u001b[0;34m=\u001b[0m \u001b[0mTextFileReader\u001b[0m\u001b[0;34m(\u001b[0m\u001b[0mfilepath_or_buffer\u001b[0m\u001b[0;34m,\u001b[0m \u001b[0;34m**\u001b[0m\u001b[0mkwds\u001b[0m\u001b[0;34m)\u001b[0m\u001b[0;34m\u001b[0m\u001b[0;34m\u001b[0m\u001b[0m\n\u001b[0m\u001b[1;32m    483\u001b[0m \u001b[0;34m\u001b[0m\u001b[0m\n\u001b[1;32m    484\u001b[0m     \u001b[0;32mif\u001b[0m \u001b[0mchunksize\u001b[0m \u001b[0;32mor\u001b[0m \u001b[0miterator\u001b[0m\u001b[0;34m:\u001b[0m\u001b[0;34m\u001b[0m\u001b[0;34m\u001b[0m\u001b[0m\n",
            "\u001b[0;32m/usr/local/lib/python3.8/dist-packages/pandas/io/parsers/readers.py\u001b[0m in \u001b[0;36m__init__\u001b[0;34m(self, f, engine, **kwds)\u001b[0m\n\u001b[1;32m    809\u001b[0m             \u001b[0mself\u001b[0m\u001b[0;34m.\u001b[0m\u001b[0moptions\u001b[0m\u001b[0;34m[\u001b[0m\u001b[0;34m\"has_index_names\"\u001b[0m\u001b[0;34m]\u001b[0m \u001b[0;34m=\u001b[0m \u001b[0mkwds\u001b[0m\u001b[0;34m[\u001b[0m\u001b[0;34m\"has_index_names\"\u001b[0m\u001b[0;34m]\u001b[0m\u001b[0;34m\u001b[0m\u001b[0;34m\u001b[0m\u001b[0m\n\u001b[1;32m    810\u001b[0m \u001b[0;34m\u001b[0m\u001b[0m\n\u001b[0;32m--> 811\u001b[0;31m         \u001b[0mself\u001b[0m\u001b[0;34m.\u001b[0m\u001b[0m_engine\u001b[0m \u001b[0;34m=\u001b[0m \u001b[0mself\u001b[0m\u001b[0;34m.\u001b[0m\u001b[0m_make_engine\u001b[0m\u001b[0;34m(\u001b[0m\u001b[0mself\u001b[0m\u001b[0;34m.\u001b[0m\u001b[0mengine\u001b[0m\u001b[0;34m)\u001b[0m\u001b[0;34m\u001b[0m\u001b[0;34m\u001b[0m\u001b[0m\n\u001b[0m\u001b[1;32m    812\u001b[0m \u001b[0;34m\u001b[0m\u001b[0m\n\u001b[1;32m    813\u001b[0m     \u001b[0;32mdef\u001b[0m \u001b[0mclose\u001b[0m\u001b[0;34m(\u001b[0m\u001b[0mself\u001b[0m\u001b[0;34m)\u001b[0m\u001b[0;34m:\u001b[0m\u001b[0;34m\u001b[0m\u001b[0;34m\u001b[0m\u001b[0m\n",
            "\u001b[0;32m/usr/local/lib/python3.8/dist-packages/pandas/io/parsers/readers.py\u001b[0m in \u001b[0;36m_make_engine\u001b[0;34m(self, engine)\u001b[0m\n\u001b[1;32m   1038\u001b[0m             )\n\u001b[1;32m   1039\u001b[0m         \u001b[0;31m# error: Too many arguments for \"ParserBase\"\u001b[0m\u001b[0;34m\u001b[0m\u001b[0;34m\u001b[0m\u001b[0;34m\u001b[0m\u001b[0m\n\u001b[0;32m-> 1040\u001b[0;31m         \u001b[0;32mreturn\u001b[0m \u001b[0mmapping\u001b[0m\u001b[0;34m[\u001b[0m\u001b[0mengine\u001b[0m\u001b[0;34m]\u001b[0m\u001b[0;34m(\u001b[0m\u001b[0mself\u001b[0m\u001b[0;34m.\u001b[0m\u001b[0mf\u001b[0m\u001b[0;34m,\u001b[0m \u001b[0;34m**\u001b[0m\u001b[0mself\u001b[0m\u001b[0;34m.\u001b[0m\u001b[0moptions\u001b[0m\u001b[0;34m)\u001b[0m  \u001b[0;31m# type: ignore[call-arg]\u001b[0m\u001b[0;34m\u001b[0m\u001b[0;34m\u001b[0m\u001b[0m\n\u001b[0m\u001b[1;32m   1041\u001b[0m \u001b[0;34m\u001b[0m\u001b[0m\n\u001b[1;32m   1042\u001b[0m     \u001b[0;32mdef\u001b[0m \u001b[0m_failover_to_python\u001b[0m\u001b[0;34m(\u001b[0m\u001b[0mself\u001b[0m\u001b[0;34m)\u001b[0m\u001b[0;34m:\u001b[0m\u001b[0;34m\u001b[0m\u001b[0;34m\u001b[0m\u001b[0m\n",
            "\u001b[0;32m/usr/local/lib/python3.8/dist-packages/pandas/io/parsers/c_parser_wrapper.py\u001b[0m in \u001b[0;36m__init__\u001b[0;34m(self, src, **kwds)\u001b[0m\n\u001b[1;32m     49\u001b[0m \u001b[0;34m\u001b[0m\u001b[0m\n\u001b[1;32m     50\u001b[0m         \u001b[0;31m# open handles\u001b[0m\u001b[0;34m\u001b[0m\u001b[0;34m\u001b[0m\u001b[0;34m\u001b[0m\u001b[0m\n\u001b[0;32m---> 51\u001b[0;31m         \u001b[0mself\u001b[0m\u001b[0;34m.\u001b[0m\u001b[0m_open_handles\u001b[0m\u001b[0;34m(\u001b[0m\u001b[0msrc\u001b[0m\u001b[0;34m,\u001b[0m \u001b[0mkwds\u001b[0m\u001b[0;34m)\u001b[0m\u001b[0;34m\u001b[0m\u001b[0;34m\u001b[0m\u001b[0m\n\u001b[0m\u001b[1;32m     52\u001b[0m         \u001b[0;32massert\u001b[0m \u001b[0mself\u001b[0m\u001b[0;34m.\u001b[0m\u001b[0mhandles\u001b[0m \u001b[0;32mis\u001b[0m \u001b[0;32mnot\u001b[0m \u001b[0;32mNone\u001b[0m\u001b[0;34m\u001b[0m\u001b[0;34m\u001b[0m\u001b[0m\n\u001b[1;32m     53\u001b[0m \u001b[0;34m\u001b[0m\u001b[0m\n",
            "\u001b[0;32m/usr/local/lib/python3.8/dist-packages/pandas/io/parsers/base_parser.py\u001b[0m in \u001b[0;36m_open_handles\u001b[0;34m(self, src, kwds)\u001b[0m\n\u001b[1;32m    220\u001b[0m         \u001b[0mLet\u001b[0m \u001b[0mthe\u001b[0m \u001b[0mreaders\u001b[0m \u001b[0mopen\u001b[0m \u001b[0mIOHandles\u001b[0m \u001b[0mafter\u001b[0m \u001b[0mthey\u001b[0m \u001b[0mare\u001b[0m \u001b[0mdone\u001b[0m \u001b[0;32mwith\u001b[0m \u001b[0mtheir\u001b[0m \u001b[0mpotential\u001b[0m \u001b[0mraises\u001b[0m\u001b[0;34m.\u001b[0m\u001b[0;34m\u001b[0m\u001b[0;34m\u001b[0m\u001b[0m\n\u001b[1;32m    221\u001b[0m         \"\"\"\n\u001b[0;32m--> 222\u001b[0;31m         self.handles = get_handle(\n\u001b[0m\u001b[1;32m    223\u001b[0m             \u001b[0msrc\u001b[0m\u001b[0;34m,\u001b[0m\u001b[0;34m\u001b[0m\u001b[0;34m\u001b[0m\u001b[0m\n\u001b[1;32m    224\u001b[0m             \u001b[0;34m\"r\"\u001b[0m\u001b[0;34m,\u001b[0m\u001b[0;34m\u001b[0m\u001b[0;34m\u001b[0m\u001b[0m\n",
            "\u001b[0;32m/usr/local/lib/python3.8/dist-packages/pandas/io/common.py\u001b[0m in \u001b[0;36mget_handle\u001b[0;34m(path_or_buf, mode, encoding, compression, memory_map, is_text, errors, storage_options)\u001b[0m\n\u001b[1;32m    700\u001b[0m         \u001b[0;32mif\u001b[0m \u001b[0mioargs\u001b[0m\u001b[0;34m.\u001b[0m\u001b[0mencoding\u001b[0m \u001b[0;32mand\u001b[0m \u001b[0;34m\"b\"\u001b[0m \u001b[0;32mnot\u001b[0m \u001b[0;32min\u001b[0m \u001b[0mioargs\u001b[0m\u001b[0;34m.\u001b[0m\u001b[0mmode\u001b[0m\u001b[0;34m:\u001b[0m\u001b[0;34m\u001b[0m\u001b[0;34m\u001b[0m\u001b[0m\n\u001b[1;32m    701\u001b[0m             \u001b[0;31m# Encoding\u001b[0m\u001b[0;34m\u001b[0m\u001b[0;34m\u001b[0m\u001b[0;34m\u001b[0m\u001b[0m\n\u001b[0;32m--> 702\u001b[0;31m             handle = open(\n\u001b[0m\u001b[1;32m    703\u001b[0m                 \u001b[0mhandle\u001b[0m\u001b[0;34m,\u001b[0m\u001b[0;34m\u001b[0m\u001b[0;34m\u001b[0m\u001b[0m\n\u001b[1;32m    704\u001b[0m                 \u001b[0mioargs\u001b[0m\u001b[0;34m.\u001b[0m\u001b[0mmode\u001b[0m\u001b[0;34m,\u001b[0m\u001b[0;34m\u001b[0m\u001b[0;34m\u001b[0m\u001b[0m\n",
            "\u001b[0;31mFileNotFoundError\u001b[0m: [Errno 2] No such file or directory: '/content/drive/MyDrive/Schizophrenia Dataset/demographics_table.csv'"
          ]
        }
      ]
    },
    {
      "cell_type": "code",
      "source": [
        "print (demographics)"
      ],
      "metadata": {
        "colab": {
          "base_uri": "https://localhost:8080/"
        },
        "id": "Z7UcCgTdb98W",
        "outputId": "8a0fb74e-3309-4474-f6b1-8d7019433d31"
      },
      "execution_count": null,
      "outputs": [
        {
          "output_type": "stream",
          "name": "stdout",
          "text": [
            "    Type  SubjectCode    AGE  MEDICATION\n",
            "0   CTRL            1  25_30        0.00\n",
            "1   CTRL            2  25_30        0.00\n",
            "2   CTRL            3  25_30        0.00\n",
            "3   CTRL            4  25_30        0.00\n",
            "4   CTRL            5  25_30        0.00\n",
            "5   CTRL            6  25_30        0.00\n",
            "6   CTRL            7  25_30        0.00\n",
            "7   CTRL            8  25_30        0.00\n",
            "8   CTRL            9  25_30        0.00\n",
            "9   CTRL           10  30_35        0.00\n",
            "10  CTRL           11  30_35        0.00\n",
            "11  CTRL           12  30_35        0.00\n",
            "12  CTRL           13  30_35        0.00\n",
            "13  CTRL           14  30_35        0.00\n",
            "14  CTRL           15  30_35        0.00\n",
            "15  CTRL           16  30_35        0.00\n",
            "16  CTRL           17  35_40        0.00\n",
            "17  CTRL           18  35_40        0.00\n",
            "18  CTRL           19  35_40        0.00\n",
            "19  CTRL           20  35_40        0.00\n",
            "20  CTRL           21  40_45        0.00\n",
            "21  CTRL           22  40_45        0.00\n",
            "22  CTRL           23  40_45        0.00\n",
            "23  CTRL           24  40_45        0.00\n",
            "24  CTRL           25  40_45        0.00\n",
            "25  CTRL           26  45_50        0.00\n",
            "26  CTRL           27  50_55        0.00\n",
            "27  SCHZ           28  35_40      377.18\n",
            "28  SCHZ           29  30_35      678.49\n",
            "29  SCHZ           30  30_35      146.55\n",
            "30  SCHZ           31  35_40      264.88\n",
            "31  SCHZ           32  55_60      146.55\n",
            "32  SCHZ           33  45_50      480.00\n",
            "33  SCHZ           34  25_30      154.39\n",
            "34  SCHZ           35  50_55        0.00\n",
            "35  SCHZ           36  40_45      177.78\n",
            "36  SCHZ           37  25_30      188.96\n",
            "37  SCHZ           38  40_45        0.00\n",
            "38  SCHZ           39  55_60      239.43\n",
            "39  SCHZ           40  30_35      456.63\n",
            "40  SCHZ           41  35_40     1093.69\n",
            "41  SCHZ           42  50_55      907.76\n",
            "42  SCHZ           43  40_45      907.76\n",
            "43  SCHZ           44  35_40      154.39\n",
            "44  SCHZ           45  25_30       80.00\n",
            "45  SCHZ           46  60_65        0.00\n",
            "46  SCHZ           47  40_45      640.00\n",
            "47  SCHZ           48  40_45      337.23\n",
            "48  SCHZ           49  30_35      480.00\n",
            "49  SCHZ           50  25_30      472.66\n",
            "50  SCHZ           51  45_50      873.97\n",
            "51  SCHZ           52  45_50      508.64\n",
            "52  SCHZ           53  45_50      194.34\n",
            "53  SCHZ           54  40_45      377.23\n"
          ]
        }
      ]
    },
    {
      "cell_type": "code",
      "source": [
        "import seaborn as sns\n",
        "sns.set_palette(['#FFD700','#0000CD'])\n",
        "sns.histplot(data=demographics, x=\"AGE\", hue='Type', multiple='stack')\n",
        "\n"
      ],
      "metadata": {
        "colab": {
          "base_uri": "https://localhost:8080/",
          "height": 298
        },
        "id": "fZNuE5r4cE09",
        "outputId": "389e6a1b-3009-4db2-893a-42d06537eef1"
      },
      "execution_count": null,
      "outputs": [
        {
          "output_type": "execute_result",
          "data": {
            "text/plain": [
              "<matplotlib.axes._subplots.AxesSubplot at 0x7f98acca6750>"
            ]
          },
          "metadata": {},
          "execution_count": 33
        },
        {
          "output_type": "display_data",
          "data": {
            "text/plain": [
              "<Figure size 432x288 with 1 Axes>"
            ],
            "image/png": "[encoded data removed]"
          },
          "metadata": {
            "needs_background": "light"
          }
        }
      ]
    },
    {
      "cell_type": "code",
      "source": [
        "schz_demographics = demographics.tail(27)\n",
        "sns.set_palette(['#0000CD'])\n",
        "sns.histplot(data=schz_demographics, x=\"MEDICATION\", multiple='stack', bins=10)"
      ],
      "metadata": {
        "colab": {
          "base_uri": "https://localhost:8080/",
          "height": 297
        },
        "id": "tQ5s7fZYjfSY",
        "outputId": "a6289e19-1924-4cd7-98eb-2add4a40d468"
      },
      "execution_count": null,
      "outputs": [
        {
          "output_type": "execute_result",
          "data": {
            "text/plain": [
              "<matplotlib.axes._subplots.AxesSubplot at 0x7f98aabc2150>"
            ]
          },
          "metadata": {},
          "execution_count": 41
        },
        {
          "output_type": "display_data",
          "data": {
            "text/plain": [
              "<Figure size 432x288 with 1 Axes>"
            ],
            "image/png": "[encoded data removed]"
          },
          "metadata": {
            "needs_background": "light"
          }
        }
      ]
    },
    {
      "cell_type": "code",
      "source": [
        "print (schz_demographics)"
      ],
      "metadata": {
        "colab": {
          "base_uri": "https://localhost:8080/"
        },
        "id": "-6ZCT1duk8lq",
        "outputId": "f6c901b4-341f-4eb1-bcc5-dd5182c82a6a"
      },
      "execution_count": null,
      "outputs": [
        {
          "output_type": "stream",
          "name": "stdout",
          "text": [
            "    Type  SubjectCode    AGE  MEDICATION\n",
            "27  SCHZ           28  35_40      377.18\n",
            "28  SCHZ           29  30_35      678.49\n",
            "29  SCHZ           30  30_35      146.55\n",
            "30  SCHZ           31  35_40      264.88\n",
            "31  SCHZ           32  55_60      146.55\n",
            "32  SCHZ           33  45_50      480.00\n",
            "33  SCHZ           34  25_30      154.39\n",
            "34  SCHZ           35  50_55        0.00\n",
            "35  SCHZ           36  40_45      177.78\n",
            "36  SCHZ           37  25_30      188.96\n",
            "37  SCHZ           38  40_45        0.00\n",
            "38  SCHZ           39  55_60      239.43\n",
            "39  SCHZ           40  30_35      456.63\n",
            "40  SCHZ           41  35_40     1093.69\n",
            "41  SCHZ           42  50_55      907.76\n",
            "42  SCHZ           43  40_45      907.76\n",
            "43  SCHZ           44  35_40      154.39\n",
            "44  SCHZ           45  25_30       80.00\n",
            "45  SCHZ           46  60_65        0.00\n",
            "46  SCHZ           47  40_45      640.00\n",
            "47  SCHZ           48  40_45      337.23\n",
            "48  SCHZ           49  30_35      480.00\n",
            "49  SCHZ           50  25_30      472.66\n",
            "50  SCHZ           51  45_50      873.97\n",
            "51  SCHZ           52  45_50      508.64\n",
            "52  SCHZ           53  45_50      194.34\n",
            "53  SCHZ           54  40_45      377.23\n"
          ]
        }
      ]
    },
    {
      "cell_type": "code",
      "source": [
        "sns.histplot(data=demographics, x=\"AGE\", hue=\"Type\", multiple=\"dodge\")"
      ],
      "metadata": {
        "colab": {
          "base_uri": "https://localhost:8080/",
          "height": 298
        },
        "id": "KLDhrjJrfNF_",
        "outputId": "83ae704e-1ab5-4724-c4c7-c8894a9cd497"
      },
      "execution_count": null,
      "outputs": [
        {
          "output_type": "execute_result",
          "data": {
            "text/plain": [
              "<matplotlib.axes._subplots.AxesSubplot at 0x7f98ad772810>"
            ]
          },
          "metadata": {},
          "execution_count": 14
        },
        {
          "output_type": "display_data",
          "data": {
            "text/plain": [
              "<Figure size 432x288 with 1 Axes>"
            ],
            "image/png": "[encoded data removed]"
          },
          "metadata": {
            "needs_background": "light"
          }
        }
      ]
    },
    {
      "cell_type": "code",
      "source": [
        "print(labels_mat.keys())\n",
        "print(type(labels_mat['llist']))\n",
        "labels_mat['llist']"
      ],
      "metadata": {
        "id": "JxahJPlsJvJv"
      },
      "execution_count": null,
      "outputs": []
    },
    {
      "cell_type": "code",
      "source": [
        "df = pd.DataFrame(labels_mat['llist'][0][1])\n",
        "df"
      ],
      "metadata": {
        "id": "0L9DwjS4JwvL"
      },
      "execution_count": null,
      "outputs": []
    },
    {
      "cell_type": "code",
      "source": [
        "\n",
        "#with h5py.File('/content/drive/MyDrive/AI4ALL/Schizophrenia Dataset/27_SCHZ_CTRL_dataset.mat', 'r') as file:\n",
        "    #print(list(file.keys()))\n",
        "!pip install mat73\n",
        "import mat73\n",
        "data_dict = mat73.loadmat('/content/drive/MyDrive/AI4ALL/Schizophrenia Dataset/27_SCHZ_CTRL_dataset.mat')\n",
        "print(data_dict)"
      ],
      "metadata": {
        "id": "-TzJZXiHKM1J"
      },
      "execution_count": null,
      "outputs": []
    },
    {
      "cell_type": "code",
      "source": [
        "print(data_dict['SC_FC_Connectomes'].keys())"
      ],
      "metadata": {
        "id": "YovOS4OPdQpf"
      },
      "execution_count": null,
      "outputs": []
    },
    {
      "cell_type": "code",
      "source": [
        "print((data_dict['SC_FC_Connectomes']['SC_density'][0]['ctrl'].shape))"
      ],
      "metadata": {
        "id": "6aJmp-VId3JP"
      },
      "execution_count": null,
      "outputs": []
    },
    {
      "cell_type": "code",
      "source": [
        "print((data_dict['SC_FC_Connectomes']['SC_density'][0]['ctrl'][0]))"
      ],
      "metadata": {
        "id": "WcLEtN4CfmIc"
      },
      "execution_count": null,
      "outputs": []
    },
    {
      "cell_type": "code",
      "source": [
        "import matplotlib.pyplot as plt\n",
        "import seaborn as sns\n",
        "plot_data=data_dict['SC_FC_Connectomes']['SC_density'][0]['ctrl'][:,:,26]\n",
        "\n",
        "ax = sns.heatmap(plot_data)\n",
        "\n"
      ],
      "metadata": {
        "id": "SzV1x-Fwg3Z8"
      },
      "execution_count": null,
      "outputs": []
    },
    {
      "cell_type": "code",
      "source": [
        "#Mean FC Correlation graphs\n",
        "mean_ctrl_correlation=np.mean(data_dict['SC_FC_Connectomes']['FC_correlation'][0]['ctrl'],axis=2)\n",
        "mean_schz_correlation=np.mean(data_dict['SC_FC_Connectomes']['FC_correlation'][0]['schz'],axis=2)\n",
        "\n",
        "fig, axes = plt.subplots(1, 2, sharex=True, figsize=(10,5))\n",
        "ax=sns.heatmap(ax=axes[0], data=mean_schz_correlation, vmin=-.02, vmax=1)\n",
        "axes[0].set_title('Schizophrenic correlation')\n",
        "\n",
        "ax=sns.heatmap(ax=axes[1],data=mean_ctrl_correlation, vmin=-.02, vmax=1)\n",
        "axes[1].set_title('Control correlation')"
      ],
      "metadata": {
        "id": "g7jx2VfRVxoR",
        "outputId": "9594d282-faab-4064-9420-839930bb0114",
        "colab": {
          "base_uri": "https://localhost:8080/",
          "height": 235
        }
      },
      "execution_count": null,
      "outputs": [
        {
          "output_type": "error",
          "ename": "NameError",
          "evalue": "ignored",
          "traceback": [
            "\u001b[0;31m---------------------------------------------------------------------------\u001b[0m",
            "\u001b[0;31mNameError\u001b[0m                                 Traceback (most recent call last)",
            "\u001b[0;32m<ipython-input-1-c539bf5a9eb9>\u001b[0m in \u001b[0;36m<module>\u001b[0;34m()\u001b[0m\n\u001b[1;32m      1\u001b[0m \u001b[0;31m#Mean FC Correlation graphs\u001b[0m\u001b[0;34m\u001b[0m\u001b[0;34m\u001b[0m\u001b[0;34m\u001b[0m\u001b[0m\n\u001b[0;32m----> 2\u001b[0;31m \u001b[0mmean_ctrl_correlation\u001b[0m\u001b[0;34m=\u001b[0m\u001b[0mnp\u001b[0m\u001b[0;34m.\u001b[0m\u001b[0mmean\u001b[0m\u001b[0;34m(\u001b[0m\u001b[0mdata_dict\u001b[0m\u001b[0;34m[\u001b[0m\u001b[0;34m'SC_FC_Connectomes'\u001b[0m\u001b[0;34m]\u001b[0m\u001b[0;34m[\u001b[0m\u001b[0;34m'FC_correlation'\u001b[0m\u001b[0;34m]\u001b[0m\u001b[0;34m[\u001b[0m\u001b[0;36m0\u001b[0m\u001b[0;34m]\u001b[0m\u001b[0;34m[\u001b[0m\u001b[0;34m'ctrl'\u001b[0m\u001b[0;34m]\u001b[0m\u001b[0;34m,\u001b[0m\u001b[0maxis\u001b[0m\u001b[0;34m=\u001b[0m\u001b[0;36m2\u001b[0m\u001b[0;34m)\u001b[0m\u001b[0;34m\u001b[0m\u001b[0;34m\u001b[0m\u001b[0m\n\u001b[0m\u001b[1;32m      3\u001b[0m \u001b[0mmean_schz_correlation\u001b[0m\u001b[0;34m=\u001b[0m\u001b[0mnp\u001b[0m\u001b[0;34m.\u001b[0m\u001b[0mmean\u001b[0m\u001b[0;34m(\u001b[0m\u001b[0mdata_dict\u001b[0m\u001b[0;34m[\u001b[0m\u001b[0;34m'SC_FC_Connectomes'\u001b[0m\u001b[0;34m]\u001b[0m\u001b[0;34m[\u001b[0m\u001b[0;34m'FC_correlation'\u001b[0m\u001b[0;34m]\u001b[0m\u001b[0;34m[\u001b[0m\u001b[0;36m0\u001b[0m\u001b[0;34m]\u001b[0m\u001b[0;34m[\u001b[0m\u001b[0;34m'schz'\u001b[0m\u001b[0;34m]\u001b[0m\u001b[0;34m,\u001b[0m\u001b[0maxis\u001b[0m\u001b[0;34m=\u001b[0m\u001b[0;36m2\u001b[0m\u001b[0;34m)\u001b[0m\u001b[0;34m\u001b[0m\u001b[0;34m\u001b[0m\u001b[0m\n\u001b[1;32m      4\u001b[0m \u001b[0;34m\u001b[0m\u001b[0m\n\u001b[1;32m      5\u001b[0m \u001b[0mfig\u001b[0m\u001b[0;34m,\u001b[0m \u001b[0maxes\u001b[0m \u001b[0;34m=\u001b[0m \u001b[0mplt\u001b[0m\u001b[0;34m.\u001b[0m\u001b[0msubplots\u001b[0m\u001b[0;34m(\u001b[0m\u001b[0;36m1\u001b[0m\u001b[0;34m,\u001b[0m \u001b[0;36m2\u001b[0m\u001b[0;34m,\u001b[0m \u001b[0msharex\u001b[0m\u001b[0;34m=\u001b[0m\u001b[0;32mTrue\u001b[0m\u001b[0;34m,\u001b[0m \u001b[0mfigsize\u001b[0m\u001b[0;34m=\u001b[0m\u001b[0;34m(\u001b[0m\u001b[0;36m10\u001b[0m\u001b[0;34m,\u001b[0m\u001b[0;36m5\u001b[0m\u001b[0;34m)\u001b[0m\u001b[0;34m)\u001b[0m\u001b[0;34m\u001b[0m\u001b[0;34m\u001b[0m\u001b[0m\n",
            "\u001b[0;31mNameError\u001b[0m: name 'np' is not defined"
          ]
        }
      ]
    },
    {
      "cell_type": "code",
      "source": [
        "#Mean ADC graphs\n",
        "mean_ctrl_adc=np.mean(data_dict['SC_FC_Connectomes']['SC_ADC'][0]['ctrl'],axis=2)\n",
        "mean_schz_adc=np.mean(data_dict['SC_FC_Connectomes']['SC_ADC'][0]['schz'],axis=2)\n",
        "\n",
        "fig, axes = plt.subplots(1, 2, sharex=True, figsize=(10,5))\n",
        "ax=sns.heatmap(ax=axes[0], data=mean_schz_adc, vmin=0, vmax=.0016)\n",
        "axes[0].set_title('Schizophrenic ADC')\n",
        "\n",
        "ax=sns.heatmap(ax=axes[1],data=mean_ctrl_adc, vmin=0, vmax=.0016)\n",
        "axes[1].set_title('Control ADC')"
      ],
      "metadata": {
        "id": "YYj02W1QW9Za"
      },
      "execution_count": null,
      "outputs": []
    },
    {
      "cell_type": "code",
      "source": [
        "#Density Graphs\n",
        "mean_ctrl_density=np.mean(data_dict['SC_FC_Connectomes']['SC_density'][0]['ctrl'],axis=2)\n",
        "mean_schz_density=np.mean(data_dict['SC_FC_Connectomes']['SC_density'][0]['schz'],axis=2)\n",
        "\n",
        "fig, axes = plt.subplots(1, 2, sharex=True, figsize=(10,5))\n",
        "ax=sns.heatmap(ax=axes[0], data=mean_schz_density, vmin=0, vmax=.03)\n",
        "axes[0].set_title('Schizophrenic density')\n",
        "\n",
        "ax=sns.heatmap(ax=axes[1],data=mean_ctrl_density, vmin=0, vmax=.03)\n",
        "axes[1].set_title('Control density')"
      ],
      "metadata": {
        "id": "V3zoogYKU8ip"
      },
      "execution_count": null,
      "outputs": []
    },
    {
      "cell_type": "code",
      "source": [
        "#GFA Mean Graphs\n",
        "mean_ctrl_gfa=np.mean(data_dict['SC_FC_Connectomes']['SC_gFA'][0]['ctrl'],axis=2)\n",
        "mean_schz_gfa=np.mean(data_dict['SC_FC_Connectomes']['SC_gFA'][0]['schz'],axis=2)\n",
        "\n",
        "fig, axes = plt.subplots(1, 2, sharex=True, figsize=(10,5))\n",
        "ax=sns.heatmap(ax=axes[0], data=mean_schz_gfa,vmin=0,vmax=.3)\n",
        "axes[0].set_title('Schizophrenic gFA')\n",
        "\n",
        "ax=sns.heatmap(ax=axes[1],data=mean_ctrl_gfa,vmin=0,vmax=.3)\n",
        "axes[1].set_title('Control gFA')"
      ],
      "metadata": {
        "id": "DWt4qb8SXxKx"
      },
      "execution_count": null,
      "outputs": []
    },
    {
      "cell_type": "code",
      "source": [
        "#Mean Fiber length\n",
        "mean_ctrl_len=np.mean(data_dict['SC_FC_Connectomes']['SC_length_of_fibers'][0]['ctrl'],axis=2)\n",
        "mean_schz_len=np.mean(data_dict['SC_FC_Connectomes']['SC_length_of_fibers'][0]['schz'],axis=2)\n",
        "\n",
        "fig, axes = plt.subplots(1, 2, sharex=True, figsize=(10,5))\n",
        "ax=sns.heatmap(ax=axes[0], data=mean_schz_len, vmin=0, vmax=160)\n",
        "axes[0].set_title('Schizophrenic Fiber Length')\n",
        "\n",
        "ax=sns.heatmap(ax=axes[1],data=mean_ctrl_len, vmin=0, vmax=160)\n",
        "axes[1].set_title('Control Fiber Length')"
      ],
      "metadata": {
        "id": "n3wFphc6Yj7E"
      },
      "execution_count": null,
      "outputs": []
    },
    {
      "cell_type": "code",
      "source": [
        "#Mean number of fibers\n",
        "mean_ctrl_num=np.mean(data_dict['SC_FC_Connectomes']['SC_number_of_fibers'][0]['ctrl'],axis=2)\n",
        "mean_schz_num=np.mean(data_dict['SC_FC_Connectomes']['SC_number_of_fibers'][0]['schz'],axis=2)\n",
        "\n",
        "fig, axes = plt.subplots(1, 2, sharex=True, figsize=(10,5))\n",
        "ax=sns.heatmap(ax=axes[0], data=mean_schz_num, vmin=0, vmax=2000)\n",
        "axes[0].set_title('Schizophrenic Fiber Count')\n",
        "\n",
        "ax=sns.heatmap(ax=axes[1],data=mean_ctrl_num, vmin=0, vmax=2000)\n",
        "axes[1].set_title('Control Fiber Count')"
      ],
      "metadata": {
        "id": "5a-zrpp9Y6Va"
      },
      "execution_count": null,
      "outputs": []
    },
    {
      "cell_type": "code",
      "source": [
        "ctrl_test=data_dict['SC_FC_Connectomes']['SC_density'][0]['ctrl'][1,2,:]\n",
        "schz_test=data_dict['SC_FC_Connectomes']['SC_density'][0]['schz'][1,2,:]\n"
      ],
      "metadata": {
        "id": "d1Oy2jg-oC5h"
      },
      "execution_count": null,
      "outputs": []
    },
    {
      "cell_type": "code",
      "source": [
        "import scipy"
      ],
      "metadata": {
        "id": "hFgLtkoFrh7c"
      },
      "execution_count": null,
      "outputs": []
    },
    {
      "cell_type": "code",
      "source": [
        "scipy.stats.ttest_ind(ctrl_test, schz_test, axis=0, equal_var=True, nan_policy='propagate',\n",
        "                      permutations=None, random_state=None, alternative='two-sided', trim=0)"
      ],
      "metadata": {
        "id": "ZMGSEXFMtpHb"
      },
      "execution_count": null,
      "outputs": []
    },
    {
      "cell_type": "code",
      "source": [
        "p_values=[]\n",
        "for x in range(83):\n",
        "  p_values.append([])\n",
        "  for y in range(83):\n",
        "    ctrl_test=data_dict['SC_FC_Connectomes']['SC_density'][0]['ctrl'][x,y,:]\n",
        "    schz_test=data_dict['SC_FC_Connectomes']['SC_density'][0]['schz'][x,y,:]\n",
        "    stat, pval=scipy.stats.ttest_ind(ctrl_test, schz_test, axis=0, equal_var=True, nan_policy='propagate',\n",
        "                      permutations=None, random_state=None, alternative='two-sided', trim=0)\n",
        "    #print (pval)\n",
        "    #p_values[x].append([])"
      ],
      "metadata": {
        "id": "L2_MCUrxuYtp"
      },
      "execution_count": null,
      "outputs": []
    },
    {
      "cell_type": "code",
      "source": [
        "p_values = np.zeros((83,83))\n",
        "for x in range(83):\n",
        "  for y in range(83):\n",
        "    ctrl_test=data_dict['SC_FC_Connectomes']['SC_density'][0]['ctrl'][x,y,:]\n",
        "    schz_test=data_dict['SC_FC_Connectomes']['SC_density'][0]['schz'][x,y,:]\n",
        "    stat, pval=scipy.stats.ttest_ind(ctrl_test, schz_test, axis=0, equal_var=True, nan_policy='propagate',\n",
        "                      permutations=None, random_state=None, alternative='two-sided', trim=0)\n",
        "    p_values[x,y] = pval"
      ],
      "metadata": {
        "id": "YXmeA4fy9T1q"
      },
      "execution_count": null,
      "outputs": []
    },
    {
      "cell_type": "code",
      "source": [
        "\n",
        "def get_pvalue_mat(group1, group2):\n",
        "  nrows=group1.shape[0]\n",
        "  ncols=group1.shape[1]\n",
        "  pvals = np.zeros((nrows,ncols))\n",
        "  for x in range(nrows):\n",
        "    for y in range(ncols):\n",
        "      group1_vector = group1[x,y,:]\n",
        "      group2_vector = group2[x,y,:]\n",
        "      stat, pval=scipy.stats.ttest_ind(group1_vector, group2_vector)\n",
        "      pvals[x,y] = pval\n",
        "  return pvals"
      ],
      "metadata": {
        "id": "Y8XqQ6YF9RyS"
      },
      "execution_count": null,
      "outputs": []
    },
    {
      "cell_type": "code",
      "source": [
        "pvals_scdensity_0 = get_pvalue_mat(data_dict['SC_FC_Connectomes']['SC_density'][0]['ctrl'],data_dict['SC_FC_Connectomes']['SC_density'][0]['schz'])\n",
        "\n",
        "pvals_scdensity_0.shape"
      ],
      "metadata": {
        "id": "ic61P7mG-zuo"
      },
      "execution_count": null,
      "outputs": []
    },
    {
      "cell_type": "code",
      "source": [
        "pvals_scdensity_1 = get_pvalue_mat(data_dict['SC_FC_Connectomes']['SC_density'][1]['ctrl'],data_dict['SC_FC_Connectomes']['SC_density'][1]['schz'])\n",
        "\n",
        "pvals_scdensity_1.shape"
      ],
      "metadata": {
        "id": "YP6GAnUFAgpK"
      },
      "execution_count": null,
      "outputs": []
    },
    {
      "cell_type": "code",
      "source": [
        "scdensity_controls = data_dict['SC_FC_Connectomes']['SC_density'][0]['ctrl']\n",
        "scdensity_sz = data_dict['SC_FC_Connectomes']['SC_density'][0]['schz']\n",
        "_, pvals_scdensity = scipy.stats.ttest_ind(scdensity_controls, scdensity_sz, axis=2)\n",
        "\n",
        "pvals_scdensity.shape\n"
      ],
      "metadata": {
        "id": "SasSiVHRBcae"
      },
      "execution_count": null,
      "outputs": []
    },
    {
      "cell_type": "code",
      "source": [
        "#Mean FC Correlation graphs\n",
        "ctrl_fcs = data_dict['SC_FC_Connectomes']['FC_correlation'][0]['ctrl']\n",
        "mean_ctrl_correlation=np.mean(ctrl_fcs,axis=2)\n",
        "\n",
        "schz_fcs=data_dict['SC_FC_Connectomes']['FC_correlation'][0]['schz']\n",
        "mean_schz_correlation=np.mean(schz_fcs,axis=2)\n",
        "\n",
        "_, pvals_fc = scipy.stats.ttest_ind(ctrl_fcs, schz_fcs, axis=2)\n",
        "\n",
        "\n",
        "fig, axes = plt.subplots(1, 3, sharex=True, figsize=(20,5))\n",
        "ax=sns.heatmap(ax=axes[0], data=mean_schz_correlation, vmin=-.02, vmax=1)\n",
        "axes[0].set_title('Schizophrenic correlation')\n",
        "\n",
        "ax=sns.heatmap(ax=axes[1],data=mean_ctrl_correlation, vmin=-.02, vmax=1)\n",
        "axes[1].set_title('Control correlation')\n",
        "\n",
        "pval_shape = mean_ctrl_correlation.shape[0] * mean_schz_correlation.shape[1]/2\n",
        "thresh = 0.05/pval_shape\n",
        "ax=sns.heatmap(ax=axes[2],data=pvals_fc, vmin=0, vmax=thresh)\n",
        "axes[2].set_title('P-values')"
      ],
      "metadata": {
        "id": "krBJgOujEvZH"
      },
      "execution_count": null,
      "outputs": []
    },
    {
      "cell_type": "code",
      "source": [
        "#ADC Pval\n",
        "#'FC_correlation', 'SC_ADC', 'SC_density', 'SC_gFA', 'SC_length_of_fibers', 'SC_number_of_fibers',\n",
        "ctrl_adc = data_dict['SC_FC_Connectomes']['SC_ADC'][0]['ctrl']\n",
        "mean_ctrl_adc=np.mean(ctrl_fcs,axis=2)\n",
        "\n",
        "schz_adc=data_dict['SC_FC_Connectomes']['SC_ADC'][0]['schz']\n",
        "mean_schz_adc=np.mean(schz_fcs,axis=2)\n",
        "_, pvals_adc = scipy.stats.ttest_ind(ctrl_adc, schz_adc, axis=2)\n",
        "\n",
        "\n",
        "fig, axes = plt.subplots(1, 3, sharex=True, figsize=(20,5))\n",
        "ax=sns.heatmap(ax=axes[0], data=mean_schz_adc, vmin=0, vmax=.0016)\n",
        "axes[0].set_title('Schizophrenic ADC')\n",
        "\n",
        "ax=sns.heatmap(ax=axes[1],data=mean_ctrl_adc, vmin=0, vmax=.0016)\n",
        "axes[1].set_title('Control ADC')\n",
        "\n",
        "pval_shape = mean_ctrl_adc.shape[0] * mean_schz_adc.shape[1]/2\n",
        "thresh = 0.05/pval_shape\n",
        "ax=sns.heatmap(ax=axes[2],data=pvals_adc, vmin=0, vmax=thresh)\n",
        "axes[2].set_title('P-values')"
      ],
      "metadata": {
        "id": "BCfAtWGeQZEe"
      },
      "execution_count": null,
      "outputs": []
    },
    {
      "cell_type": "code",
      "source": [
        "#Density\n",
        "ctrl_density = data_dict['SC_FC_Connectomes']['SC_density'][0]['ctrl']\n",
        "mean_ctrl_density=np.mean(ctrl_density,axis=2)\n",
        "\n",
        "schz_density=data_dict['SC_FC_Connectomes']['SC_density'][0]['schz']\n",
        "mean_schz_density=np.mean(schz_density,axis=2)\n",
        "_, pvals_density = scipy.stats.ttest_ind(ctrl_density, schz_density, axis=2)\n",
        "\n",
        "\n",
        "fig, axes = plt.subplots(1, 3, sharex=True, figsize=(20,5))\n",
        "ax=sns.heatmap(ax=axes[0], data=mean_schz_density, vmin=0, vmax=.03)\n",
        "axes[0].set_title('Schizophrenic density')\n",
        "\n",
        "ax=sns.heatmap(ax=axes[1],data=mean_ctrl_density, vmin=0, vmax=.03)\n",
        "axes[1].set_title('Control density')\n",
        "\n",
        "pval_shape = mean_ctrl_density.shape[0] * mean_schz_density.shape[1]/2\n",
        "thresh = 0.05/pval_shape\n",
        "ax=sns.heatmap(ax=axes[2],data=pvals_density, vmin=0, vmax=thresh)\n",
        "axes[2].set_title('P-values')"
      ],
      "metadata": {
        "id": "MfwkUJKuUGoM"
      },
      "execution_count": null,
      "outputs": []
    },
    {
      "cell_type": "code",
      "source": [
        "#'SC_gFA'\n",
        "ctrl_gFA = data_dict['SC_FC_Connectomes']['SC_gFA'][0]['ctrl']\n",
        "mean_ctrl_gFA=np.mean(ctrl_gFA,axis=2)\n",
        "\n",
        "schz_gFA=data_dict['SC_FC_Connectomes']['SC_gFA'][0]['schz']\n",
        "mean_schz_gFA=np.mean(schz_gFA,axis=2)\n",
        "_, pvals_gFA = scipy.stats.ttest_ind(ctrl_gFA, schz_gFA, axis=2)\n",
        "\n",
        "\n",
        "fig, axes = plt.subplots(1, 3, sharex=True, figsize=(20,5))\n",
        "ax=sns.heatmap(ax=axes[0], data=mean_schz_gFA, vmin=0,vmax=.3)\n",
        "axes[0].set_title('Schizophrenic gFA')\n",
        "\n",
        "ax=sns.heatmap(ax=axes[1],data=mean_ctrl_gFA, vmin=0,vmax=.3)\n",
        "axes[1].set_title('Control gFA')\n",
        "\n",
        "pval_shape = mean_ctrl_gFA.shape[0] * mean_schz_gFA.shape[1]/2\n",
        "thresh = 0.05/pval_shape\n",
        "ax=sns.heatmap(ax=axes[2],data=pvals_gFA, vmin=0, vmax=thresh)\n",
        "axes[2].set_title('P-values')"
      ],
      "metadata": {
        "id": "IfskCS4GVj3y"
      },
      "execution_count": null,
      "outputs": []
    },
    {
      "cell_type": "code",
      "source": [
        "#'SC_numfibers'\n",
        "ctrl_numfibers = data_dict['SC_FC_Connectomes']['SC_number_of_fibers'][0]['ctrl']\n",
        "mean_ctrl_numfibers=np.mean(ctrl_numfibers,axis=2)\n",
        "\n",
        "schz_numfibers=data_dict['SC_FC_Connectomes']['SC_number_of_fibers'][0]['schz']\n",
        "mean_schz_numfibers=np.mean(schz_numfibers,axis=2)\n",
        "_, pvals_numfibers = scipy.stats.ttest_ind(ctrl_numfibers, schz_numfibers, axis=2)\n",
        "\n",
        "\n",
        "fig, axes = plt.subplots(1, 3, sharex=True, figsize=(20,5))\n",
        "ax=sns.heatmap(ax=axes[0], data=mean_schz_numfibers, vmin=0,vmax=.3)\n",
        "axes[0].set_title('Schizophrenic numfibers')\n",
        "\n",
        "ax=sns.heatmap(ax=axes[1],data=mean_ctrl_numfibers, vmin=0,vmax=.3)\n",
        "axes[1].set_title('Control numfibers')\n",
        "\n",
        "pval_shape = mean_ctrl_numfibers.shape[0] * mean_schz_numfibers.shape[1]/2\n",
        "thresh = 0.05/pval_shape\n",
        "ax=sns.heatmap(ax=axes[2],data=pvals_numfibers, vmin=0, vmax=thresh)\n",
        "axes[2].set_title('P-values')"
      ],
      "metadata": {
        "id": "cvgtBy_Yaw-n"
      },
      "execution_count": null,
      "outputs": []
    },
    {
      "cell_type": "code",
      "source": [
        "#'SC_length'\n",
        "ctrl_length = data_dict['SC_FC_Connectomes']['SC_length_of_fibers'][0]['ctrl']\n",
        "mean_ctrl_length=np.mean(ctrl_length,axis=2)\n",
        "\n",
        "schz_length=data_dict['SC_FC_Connectomes']['SC_length_of_fibers'][0]['schz']\n",
        "mean_schz_length=np.mean(schz_length,axis=2)\n",
        "_, pvals_length = scipy.stats.ttest_ind(ctrl_length, schz_length, axis=2)\n",
        "\n",
        "\n",
        "fig, axes = plt.subplots(1, 3, sharex=True, figsize=(20,5))\n",
        "ax=sns.heatmap(ax=axes[0], data=mean_schz_length, vmin=0, vmax=160)\n",
        "axes[0].set_title('Schizophrenic length')\n",
        "\n",
        "ax=sns.heatmap(ax=axes[1],data=mean_ctrl_length, vmin=0, vmax=160)\n",
        "axes[1].set_title('Control length')\n",
        "\n",
        "pval_shape = mean_ctrl_length.shape[0] * mean_schz_length.shape[1]/2\n",
        "thresh = 0.05/pval_shape\n",
        "ax=sns.heatmap(ax=axes[2],data=pvals_length, vmin=0, vmax=thresh)\n",
        "axes[2].set_title('P-values')"
      ],
      "metadata": {
        "id": "n_joE-XtbXc8"
      },
      "execution_count": null,
      "outputs": []
    }
  ]
}